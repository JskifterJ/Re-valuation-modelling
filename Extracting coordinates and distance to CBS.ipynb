{
 "cells": [
  {
   "cell_type": "markdown",
   "metadata": {},
   "source": [
    "### Adjusting the address for coordinate transformation"
   ]
  },
  {
   "cell_type": "code",
   "execution_count": 2,
   "metadata": {},
   "outputs": [],
   "source": [
    "import pandas as pd\n",
    "import os\n",
    "import numpy as np\n",
    "data=pd.read_csv('/Users/kazba1/Downloads/combined_with_coordinates.csv')\n",
    "df=pd.DataFrame(data)\n",
    "for i in range(len(df.index)):\n",
    "    try:\n",
    "        df.loc[i,'short_adress']=df.loc[i,'links_Appartment_Address'].partition(\"-\")[0]\n",
    "    except AttributeError:\n",
    "        pass\n",
    "    try:\n",
    "        df.loc[i,'short_adress']=df.loc[i,'short_adress'].partition(\"SV\")[0]\n",
    "    except AttributeError:\n",
    "        pass\n",
    "    try:\n",
    "        df.loc[i,'short_adress']=df.loc[i,'short_adress'].partition(\"NV\")[0]\n",
    "    except AttributeError:\n",
    "        pass\n",
    "    try:\n",
    "        df.loc[i,'short_adress']=df.loc[i,'short_adress'].partition(\"C\")[0]\n",
    "    except AttributeError:\n",
    "        pass\n",
    "    try:\n",
    "        str = df.loc[i,'short_adress'];\n",
    "        df.loc[i,'short_adress'] = str.replace(\"Valby\", \"Copenhagen\");\n",
    "        df.loc[i,'short_adress'] = str.replace(\"Brønshøj\", \"Copenhagen\");\n",
    "        df.loc[i,'short_adress'] = str.replace(\"Nordvest\", \"Copenhagen\");\n",
    "    except AttributeError:\n",
    "        pass"
   ]
  },
  {
   "cell_type": "code",
   "execution_count": 4,
   "metadata": {},
   "outputs": [
    {
     "name": "stdout",
     "output_type": "stream",
     "text": [
      "<class 'pandas.core.frame.DataFrame'>\n",
      "RangeIndex: 2900 entries, 0 to 2899\n",
      "Data columns (total 21 columns):\n",
      " #   Column                            Non-Null Count  Dtype  \n",
      "---  ------                            --------------  -----  \n",
      " 0   Unnamed: 0                        2900 non-null   int64  \n",
      " 1   links_Appartment_url              2900 non-null   object \n",
      " 2   links_Appartment_Name             2900 non-null   object \n",
      " 3   links_Appartment_Address          2900 non-null   object \n",
      " 4   links_Appartment_Boligtype        2900 non-null   object \n",
      " 5   links_Appartment_Rooms            2900 non-null   float64\n",
      " 6   links_Appartment_Floor            2900 non-null   object \n",
      " 7   links_Appartment_Furnished        2900 non-null   object \n",
      " 8   links_Appartment_Shareable        2900 non-null   object \n",
      " 9   links_Appartment_Pets_allowed     2900 non-null   object \n",
      " 10  links_Appartment_Rent_period      2900 non-null   object \n",
      " 11  links_Appartment_Take_over_date   2900 non-null   object \n",
      " 12  links_Appartment_Rent_monthly     2900 non-null   object \n",
      " 13  links_Appartment_Deposit          2900 non-null   object \n",
      " 14  links_Appartment_Occupancy_price  2900 non-null   object \n",
      " 15  links_Appartment_Aconto           2900 non-null   object \n",
      " 16  links_Appartment_First_rent       2900 non-null   object \n",
      " 17  links_Appartment_Description      2900 non-null   object \n",
      " 18  short_adress                      2900 non-null   object \n",
      " 19  latitude                          2478 non-null   object \n",
      " 20  longitude                         2478 non-null   object \n",
      "dtypes: float64(1), int64(1), object(19)\n",
      "memory usage: 475.9+ KB\n"
     ]
    }
   ],
   "source": [
    "df.info()"
   ]
  },
  {
   "cell_type": "markdown",
   "metadata": {},
   "source": [
    "### Using Geopy to transform addresses to coordinates"
   ]
  },
  {
   "cell_type": "code",
   "execution_count": null,
   "metadata": {},
   "outputs": [],
   "source": [
    ">>> from geopy.geocoders import Nominatim\n",
    ">>> geolocator = Nominatim(user_agent='robertas.kazbaras@gmail.com')\n",
    "for i in range(len(df.index)):\n",
    "    try: \n",
    "        location = geolocator.geocode(df.loc[i,'short_adress'])\n",
    "        df.loc[i,'latitude']=location.latitude\n",
    "        df.loc[i,'longitude']=location.longitude\n",
    "    except AttributeError:\n",
    "        pass"
   ]
  },
  {
   "cell_type": "markdown",
   "metadata": {},
   "source": [
    "### Calculating the distance to CBS"
   ]
  },
  {
   "cell_type": "code",
   "execution_count": null,
   "metadata": {},
   "outputs": [],
   "source": [
    "#Taking non nul coordinates\n",
    "dataset_with_missing_coordinates=df[df['latitude'].isnull()==False]\n",
    "\n",
    "#Using the geopy for CBS coordinates\n",
    "from geopy.geocoders import Nominatim\n",
    "geolocator = Nominatim(user_agent='robertas.kazbaras@gmail.com')\n",
    "location = geolocator.geocode(\"Solbjerg Pl. 3, 2000, Copenhagen\")\n",
    "coords_1=(location.latitude,location.longitude)\n",
    "\n",
    "#Calculating the distance\n",
    "import geopy.distance\n",
    "for i in range(len(dataset_with_missing_coordinates.index)):\n",
    "    coords_2 = (dataset_with_missing_coordinates.loc[i,\"latitude\"],dataset_with_missing_coordinates.loc[i,\"longitude\"])\n",
    "    dataset_with_missing_coordinates.loc[i,\"distance to CBS\"]= geopy.distance.geodesic(coords_1, coords_2).km"
   ]
  },
  {
   "cell_type": "code",
   "execution_count": null,
   "metadata": {},
   "outputs": [],
   "source": [
    "dataset_with_missing_coordinates"
   ]
  },
  {
   "cell_type": "code",
   "execution_count": null,
   "metadata": {},
   "outputs": [],
   "source": [
    "#Saving the csv\n",
    "dataset_with_missing_coordinates.to_csv('/Users/kazba1/Downloads/with_distance_to_CBS.csv')"
   ]
  }
 ],
 "metadata": {
  "kernelspec": {
   "display_name": "Python 3",
   "language": "python",
   "name": "python3"
  },
  "language_info": {
   "codemirror_mode": {
    "name": "ipython",
    "version": 3
   },
   "file_extension": ".py",
   "mimetype": "text/x-python",
   "name": "python",
   "nbconvert_exporter": "python",
   "pygments_lexer": "ipython3",
   "version": "3.7.6"
  }
 },
 "nbformat": 4,
 "nbformat_minor": 4
}
