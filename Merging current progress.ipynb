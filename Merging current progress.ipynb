{
 "cells": [
  {
   "cell_type": "code",
   "execution_count": 320,
   "metadata": {},
   "outputs": [
    {
     "name": "stdout",
     "output_type": "stream",
     "text": [
      "<class 'pandas.core.frame.DataFrame'>\n",
      "RangeIndex: 2658 entries, 0 to 2657\n",
      "Data columns (total 4 columns):\n",
      " #   Column                Non-Null Count  Dtype  \n",
      "---  ------                --------------  -----  \n",
      " 0   links_Appartment_url  2658 non-null   object \n",
      " 1   latitude              2658 non-null   float64\n",
      " 2   longitude             2658 non-null   float64\n",
      " 3   distance to CBS       2658 non-null   float64\n",
      "dtypes: float64(3), object(1)\n",
      "memory usage: 83.2+ KB\n"
     ]
    }
   ],
   "source": [
    "import pandas as pd\n",
    "import os\n",
    "import numpy as np\n",
    "data=pd.read_csv('/Users/kazba1/Downloads/with_distance_to_CBS.csv')\n",
    "data=pd.DataFrame(data)\n",
    "data=data[['links_Appartment_url','latitude','longitude','distance to CBS']]\n",
    "data.info()"
   ]
  },
  {
   "cell_type": "code",
   "execution_count": 321,
   "metadata": {},
   "outputs": [
    {
     "name": "stdout",
     "output_type": "stream",
     "text": [
      "<class 'pandas.core.frame.DataFrame'>\n",
      "RangeIndex: 2617 entries, 0 to 2616\n",
      "Data columns (total 4 columns):\n",
      " #   Column                Non-Null Count  Dtype \n",
      "---  ------                --------------  ----- \n",
      " 0   links_Appartment_url  2617 non-null   object\n",
      " 1   links_image1_url      2617 non-null   object\n",
      " 2   links_image2_url      2497 non-null   object\n",
      " 3   links_image3_url      2470 non-null   object\n",
      "dtypes: object(4)\n",
      "memory usage: 81.9+ KB\n"
     ]
    }
   ],
   "source": [
    "df1=pd.read_csv('/Users/kazba1/Desktop/RE valuation modelling/Image urls/image_url.csv')\n",
    "df1 = df1.rename(columns={'bolig_urls_link': 'links_Appartment_url','bolig_urls_image1': 'links_image1_url','bolig_urls_image2': 'links_image2_url','bolig_urls_image3': 'links_image3_url'})\n",
    "df1=df1[['links_Appartment_url','links_image1_url','links_image2_url','links_image3_url']]\n",
    "df1.info()"
   ]
  },
  {
   "cell_type": "code",
   "execution_count": 322,
   "metadata": {},
   "outputs": [
    {
     "name": "stdout",
     "output_type": "stream",
     "text": [
      "<class 'pandas.core.frame.DataFrame'>\n",
      "RangeIndex: 2545 entries, 0 to 2544\n",
      "Data columns (total 19 columns):\n",
      " #   Column                            Non-Null Count  Dtype  \n",
      "---  ------                            --------------  -----  \n",
      " 0   links_Appartment_url              2545 non-null   object \n",
      " 1   links_Appartment_Name             2545 non-null   object \n",
      " 2   links_Appartment_Address          2545 non-null   object \n",
      " 3   links_Appartment_Boligtype        2545 non-null   object \n",
      " 4   links_Appartment_Rooms            2545 non-null   float64\n",
      " 5   links_Appartment_Floor            2545 non-null   object \n",
      " 6   links_Appartment_Furnished        2545 non-null   object \n",
      " 7   links_Appartment_Shareable        2545 non-null   object \n",
      " 8   links_Appartment_Pets_allowed     2545 non-null   object \n",
      " 9   links_Appartment_Rent_period      2545 non-null   object \n",
      " 10  links_Appartment_Take_over_date   2545 non-null   object \n",
      " 11  links_Appartment_Rent_monthly     2545 non-null   int64  \n",
      " 12  links_Appartment_Deposit          2545 non-null   object \n",
      " 13  links_Appartment_Occupancy_price  2545 non-null   object \n",
      " 14  links_Appartment_Aconto           2479 non-null   float64\n",
      " 15  links_Appartment_First_rent       2545 non-null   object \n",
      " 16  links_Appartment_Description      2545 non-null   object \n",
      " 17  links_Appartment_sqm              2545 non-null   int64  \n",
      " 18  links_rent_aconto_monthly         2479 non-null   float64\n",
      "dtypes: float64(3), int64(2), object(14)\n",
      "memory usage: 377.9+ KB\n"
     ]
    }
   ],
   "source": [
    "df=pd.read_csv('/Users/kazba1/Downloads/Cleaned SO FAR.csv')\n",
    "df=pd.DataFrame(df)\n",
    "df.info()"
   ]
  },
  {
   "cell_type": "markdown",
   "metadata": {},
   "source": [
    "### Merging data"
   ]
  },
  {
   "cell_type": "code",
   "execution_count": 323,
   "metadata": {},
   "outputs": [
    {
     "name": "stdout",
     "output_type": "stream",
     "text": [
      "<class 'pandas.core.frame.DataFrame'>\n",
      "RangeIndex: 2339 entries, 0 to 2338\n",
      "Data columns (total 25 columns):\n",
      " #   Column                            Non-Null Count  Dtype  \n",
      "---  ------                            --------------  -----  \n",
      " 0   links_Appartment_url              2339 non-null   object \n",
      " 1   links_Appartment_Name             2339 non-null   object \n",
      " 2   links_Appartment_Address          2339 non-null   object \n",
      " 3   links_Appartment_Boligtype        2339 non-null   object \n",
      " 4   links_Appartment_Rooms            2339 non-null   float64\n",
      " 5   links_Appartment_Floor            2339 non-null   object \n",
      " 6   links_Appartment_Furnished        2339 non-null   object \n",
      " 7   links_Appartment_Shareable        2339 non-null   object \n",
      " 8   links_Appartment_Pets_allowed     2339 non-null   object \n",
      " 9   links_Appartment_Rent_period      2339 non-null   object \n",
      " 10  links_Appartment_Take_over_date   2339 non-null   object \n",
      " 11  links_Appartment_Rent_monthly     2339 non-null   int64  \n",
      " 12  links_Appartment_Deposit          2339 non-null   object \n",
      " 13  links_Appartment_Occupancy_price  2339 non-null   object \n",
      " 14  links_Appartment_Aconto           2276 non-null   float64\n",
      " 15  links_Appartment_First_rent       2339 non-null   object \n",
      " 16  links_Appartment_Description      2339 non-null   object \n",
      " 17  links_Appartment_sqm              2339 non-null   int64  \n",
      " 18  links_rent_aconto_monthly         2276 non-null   float64\n",
      " 19  latitude                          2339 non-null   float64\n",
      " 20  longitude                         2339 non-null   float64\n",
      " 21  distance to CBS                   2339 non-null   float64\n",
      " 22  links_image1_url                  2339 non-null   object \n",
      " 23  links_image2_url                  2267 non-null   object \n",
      " 24  links_image3_url                  2251 non-null   object \n",
      "dtypes: float64(6), int64(2), object(17)\n",
      "memory usage: 457.0+ KB\n"
     ]
    }
   ],
   "source": [
    "merged = pd.merge(df, data,how=\"left\", on=[\"links_Appartment_url\"])\n",
    "merged=merged[merged['latitude'].isnull()==False]\n",
    "merged = pd.merge(merged, df1,how=\"left\", on=[\"links_Appartment_url\"])\n",
    "merged=merged[merged['links_image1_url'].isnull()==False]\n",
    "merged=merged.reset_index(drop=True)\n",
    "merged.info()"
   ]
  },
  {
   "cell_type": "code",
   "execution_count": 154,
   "metadata": {},
   "outputs": [],
   "source": [
    "merged.to_csv('/Users/kazba1/Desktop/RE valuation modelling/merged.csv')"
   ]
  },
  {
   "cell_type": "markdown",
   "metadata": {},
   "source": [
    "### Estimating the number of bedrooms"
   ]
  },
  {
   "cell_type": "code",
   "execution_count": 324,
   "metadata": {},
   "outputs": [],
   "source": [
    "# Deleting entries wiht more than 10 rooms\n",
    "merged=merged[merged['links_Appartment_Rooms']<10]\n",
    "merged=merged.reset_index(drop=True)"
   ]
  },
  {
   "cell_type": "code",
   "execution_count": 325,
   "metadata": {},
   "outputs": [],
   "source": [
    "#The bedrooms can be estimated with around 90% accuracy by subtracting one in apartments with two to four rooms and two with five and six\n",
    "merged['links_Appartment_Rooms']=merged['links_Appartment_Rooms'].astype(int)\n",
    "for i in range(len(merged.index)):\n",
    "    if merged.loc[i,'links_Appartment_Rooms']>1 & merged.loc[i,'links_Appartment_Rooms']<5:\n",
    "        merged.loc[i,'Bedrooms']=merged.loc[i,'links_Appartment_Rooms']-1\n",
    "    if merged.loc[i,'links_Appartment_Rooms']>4:\n",
    "        merged.loc[i,'Bedrooms']=merged.loc[i,'links_Appartment_Rooms']-2\n",
    "    if merged.loc[i,'links_Appartment_Rooms']==1:\n",
    "        merged.loc[i,'Bedrooms']=merged.loc[i,'links_Appartment_Rooms']"
   ]
  },
  {
   "cell_type": "markdown",
   "metadata": {},
   "source": [
    "### Including price per bedroom calculations"
   ]
  },
  {
   "cell_type": "code",
   "execution_count": 326,
   "metadata": {},
   "outputs": [],
   "source": [
    "# links_Appartment_Rooms to integers\n",
    "merged['Bedrooms']=merged['Bedrooms'].astype(int)\n",
    "\n",
    "# taking care of links_rent_aconto_monthly missing values by giving them the value of links_Appartment_Rent_monthly\n",
    "a=merged[merged['links_rent_aconto_monthly'].isnull()].index\n",
    "for i in range(len(a)):\n",
    "    merged.loc[a[i],'links_rent_aconto_monthly']=merged.loc[a[i],'links_Appartment_Rent_monthly']\n",
    "\n",
    "# calculate Price_per_room\n",
    "# using apply function to create a new column \n",
    "merged['Price_per_bedroom'] = merged['links_rent_aconto_monthly']/merged['Bedrooms']\n",
    "# Print the DataFrame after addition of new column \n",
    "merged = merged.fillna(0)\n",
    "merged['Price_per_bedroom'] =merged['Price_per_bedroom'].astype(int)"
   ]
  },
  {
   "cell_type": "code",
   "execution_count": 341,
   "metadata": {},
   "outputs": [],
   "source": [
    "# Deleting apartments that are more than 10k per bedroom\n",
    "merged=merged[merged['Price_per_bedroom'] < 10000]\n",
    "merged=merged.reset_index(drop=True)\n",
    "\n",
    "#creating a new column with score rating/points\n",
    "def rating_price(merged):\n",
    "    if (merged['Price_per_bedroom'] < 3000):\n",
    "        return 5\n",
    "    elif (merged['Price_per_bedroom'] < 4000):\n",
    "        return 4\n",
    "    elif (merged['Price_per_bedroom'] < 5000):\n",
    "        return 3\n",
    "    elif (merged['Price_per_bedroom'] < 6000):\n",
    "        return 2\n",
    "    elif (merged['Price_per_bedroom'] < 7000):\n",
    "        return 1\n",
    "    elif (merged['Price_per_bedroom'] < 8000):\n",
    "        return 0\n",
    "    elif (merged['Price_per_bedroom'] > 8000):\n",
    "        return np.nan\n",
    "    \n",
    "merged['Price_score'] = merged.apply(rating_price, axis = 1)\n",
    "merged = merged.fillna(0)\n",
    "merged['Price_score'] = merged['Price_score'].astype(int)"
   ]
  },
  {
   "cell_type": "code",
   "execution_count": 342,
   "metadata": {},
   "outputs": [
    {
     "data": {
      "text/plain": [
       "array([[<matplotlib.axes._subplots.AxesSubplot object at 0x7ffaa9e97490>]],\n",
       "      dtype=object)"
      ]
     },
     "execution_count": 342,
     "metadata": {},
     "output_type": "execute_result"
    },
    {
     "data": {
      "image/png": "[encoded data removed]",
      "text/plain": [
       "<Figure size 432x288 with 1 Axes>"
      ]
     },
     "metadata": {
      "needs_background": "light"
     },
     "output_type": "display_data"
    }
   ],
   "source": [
    "# histogram\n",
    "%matplotlib inline \n",
    "#to plot charts into Jupyter Notebook\n",
    "merged.hist('Price_score', bins=12, range=[0, 6])"
   ]
  },
  {
   "cell_type": "markdown",
   "metadata": {},
   "source": [
    "### Distance score. Optional: Limiting the distance from CBS to 7km will remove around 25% of the data set"
   ]
  },
  {
   "cell_type": "code",
   "execution_count": 343,
   "metadata": {},
   "outputs": [],
   "source": [
    "#cleaning up distance that is unrealisticly too far away:\n",
    "merged=merged[merged['distance to CBS'] < 14]\n",
    "merged=merged.reset_index(drop=True)\n",
    "\n",
    "#creating a new column with score rating/points\n",
    "def rating_price(merged):\n",
    "    if (merged['distance to CBS'] < 1):\n",
    "        return 5\n",
    "    elif (merged['distance to CBS'] < 2):\n",
    "        return 4\n",
    "    elif (merged['distance to CBS'] < 3):\n",
    "        return 3\n",
    "    elif (merged['distance to CBS'] < 5):\n",
    "        return 2\n",
    "    elif (merged['distance to CBS'] < 8):\n",
    "        return 1\n",
    "    elif (merged['distance to CBS'] < 14):\n",
    "        return 0\n",
    "    elif (merged['distance to CBS'] > 14):\n",
    "        return np.nan\n",
    "    \n",
    "merged['CBS_distance_score'] = merged.apply(rating_price, axis = 1)\n",
    "merged = merged.fillna(0)\n",
    "merged['CBS_distance_score'] = merged['CBS_distance_score'].astype(int)\n"
   ]
  },
  {
   "cell_type": "code",
   "execution_count": 344,
   "metadata": {},
   "outputs": [
    {
     "data": {
      "text/plain": [
       "array([[<matplotlib.axes._subplots.AxesSubplot object at 0x7ffaa9f81b90>]],\n",
       "      dtype=object)"
      ]
     },
     "execution_count": 344,
     "metadata": {},
     "output_type": "execute_result"
    },
    {
     "data": {
      "image/png": "[encoded data removed]",
      "text/plain": [
       "<Figure size 432x288 with 1 Axes>"
      ]
     },
     "metadata": {
      "needs_background": "light"
     },
     "output_type": "display_data"
    }
   ],
   "source": [
    "# histogram\n",
    "%matplotlib inline \n",
    "#to plot charts into Jupyter Notebook\n",
    "merged.hist('CBS_distance_score', bins=12, range=[0, 6])"
   ]
  },
  {
   "cell_type": "markdown",
   "metadata": {},
   "source": [
    "### Saving data"
   ]
  },
  {
   "cell_type": "code",
   "execution_count": 346,
   "metadata": {},
   "outputs": [],
   "source": [
    "merged.to_csv('/Users/kazba1/Desktop/RE valuation modelling/data_11_11_after_elimination.csv')"
   ]
  },
  {
   "cell_type": "code",
   "execution_count": 347,
   "metadata": {},
   "outputs": [
    {
     "name": "stdout",
     "output_type": "stream",
     "text": [
      "<class 'pandas.core.frame.DataFrame'>\n",
      "RangeIndex: 1645 entries, 0 to 1644\n",
      "Data columns (total 29 columns):\n",
      " #   Column                            Non-Null Count  Dtype  \n",
      "---  ------                            --------------  -----  \n",
      " 0   links_Appartment_url              1645 non-null   object \n",
      " 1   links_Appartment_Name             1645 non-null   object \n",
      " 2   links_Appartment_Address          1645 non-null   object \n",
      " 3   links_Appartment_Boligtype        1645 non-null   object \n",
      " 4   links_Appartment_Rooms            1645 non-null   int64  \n",
      " 5   links_Appartment_Floor            1645 non-null   object \n",
      " 6   links_Appartment_Furnished        1645 non-null   object \n",
      " 7   links_Appartment_Shareable        1645 non-null   object \n",
      " 8   links_Appartment_Pets_allowed     1645 non-null   object \n",
      " 9   links_Appartment_Rent_period      1645 non-null   object \n",
      " 10  links_Appartment_Take_over_date   1645 non-null   object \n",
      " 11  links_Appartment_Rent_monthly     1645 non-null   int64  \n",
      " 12  links_Appartment_Deposit          1645 non-null   object \n",
      " 13  links_Appartment_Occupancy_price  1645 non-null   object \n",
      " 14  links_Appartment_Aconto           1645 non-null   float64\n",
      " 15  links_Appartment_First_rent       1645 non-null   object \n",
      " 16  links_Appartment_Description      1645 non-null   object \n",
      " 17  links_Appartment_sqm              1645 non-null   int64  \n",
      " 18  links_rent_aconto_monthly         1645 non-null   float64\n",
      " 19  latitude                          1645 non-null   float64\n",
      " 20  longitude                         1645 non-null   float64\n",
      " 21  distance to CBS                   1645 non-null   float64\n",
      " 22  links_image1_url                  1645 non-null   object \n",
      " 23  links_image2_url                  1645 non-null   object \n",
      " 24  links_image3_url                  1645 non-null   object \n",
      " 25  Bedrooms                          1645 non-null   int64  \n",
      " 26  Price_per_bedroom                 1645 non-null   int64  \n",
      " 27  Price_score                       1645 non-null   int64  \n",
      " 28  CBS_distance_score                1645 non-null   int64  \n",
      "dtypes: float64(5), int64(7), object(17)\n",
      "memory usage: 372.8+ KB\n"
     ]
    }
   ],
   "source": [
    "merged.info()"
   ]
  },
  {
   "cell_type": "markdown",
   "metadata": {},
   "source": [
    "### Optional: Beautifying the dataset"
   ]
  },
  {
   "cell_type": "code",
   "execution_count": 318,
   "metadata": {},
   "outputs": [],
   "source": [
    "#renaming the collumns\n",
    "merged = merged.rename(columns={'links_Appartment_url': 'Url','links_Appartment_Name': 'Name','links_Appartment_Address': 'Address','links_Appartment_Boligtype': 'Type','links_Appartment_Rooms': 'Room_number','links_Appartment_Floor': 'Floor_number','links_Appartment_url': 'Appartment_url','links_Appartment_Furnished': 'Furnished','links_Appartment_Shareable': 'Shareable','links_Appartment_Pets_allowed': 'Pets_allowed','links_Appartment_Rent_period': 'Rent_period','links_Appartment_Take_over_date': 'Take_over_date','links_Appartment_Rent_monthly': 'Rent_monthly','links_Appartment_Deposit': 'Deposit','links_Appartment_Occupancy_price': 'Occupancy_price','links_Appartment_Aconto': 'Aconto','links_Appartment_First_rent': 'First_rent','links_Appartment_Description': 'Description','links_Appartment_sqm': 'Size','links_rent_aconto_monthly': 'Rent_plus_aconto_monthly','distance to CBS': 'Distance_CBS','links_image1_url': 'image1_url','links_image2_url': 'image2_url','links_image3_url': 'image3_url','Bedrooms': 'Bedroom_number'})\n",
    "\n"
   ]
  },
  {
   "cell_type": "code",
   "execution_count": null,
   "metadata": {},
   "outputs": [],
   "source": []
  }
 ],
 "metadata": {
  "kernelspec": {
   "display_name": "Python 3",
   "language": "python",
   "name": "python3"
  },
  "language_info": {
   "codemirror_mode": {
    "name": "ipython",
    "version": 3
   },
   "file_extension": ".py",
   "mimetype": "text/x-python",
   "name": "python",
   "nbconvert_exporter": "python",
   "pygments_lexer": "ipython3",
   "version": "3.7.6"
  }
 },
 "nbformat": 4,
 "nbformat_minor": 4
}
