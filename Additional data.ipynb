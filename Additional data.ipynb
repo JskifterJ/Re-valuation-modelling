{
 "cells": [
  {
   "cell_type": "markdown",
   "metadata": {},
   "source": [
    "### Uploading the csv's"
   ]
  },
  {
   "cell_type": "code",
   "execution_count": 8,
   "metadata": {},
   "outputs": [],
   "source": [
    "import pandas as pd\n",
    "import os\n",
    "import numpy as np\n",
    "d1=pd.read_csv('/Users/kazba1/Desktop/RE valuation modelling/Additional data/1.csv')\n",
    "d1=pd.DataFrame(d1)\n",
    "d2=pd.read_csv('/Users/kazba1/Desktop/RE valuation modelling/Additional data/2.csv')\n",
    "d2=pd.DataFrame(d2)\n",
    "d3=pd.read_csv('/Users/kazba1/Desktop/RE valuation modelling/Additional data/3.csv')\n",
    "d3=pd.DataFrame(d3)\n",
    "d4=pd.read_csv('/Users/kazba1/Desktop/RE valuation modelling/Additional data/4.csv')\n",
    "d4=pd.DataFrame(d4)\n",
    "d5=pd.read_csv('/Users/kazba1/Desktop/RE valuation modelling/Additional data/5.csv')\n",
    "d5=pd.DataFrame(d5)\n",
    "d6=pd.read_csv('/Users/kazba1/Desktop/RE valuation modelling/Additional data/6.csv')\n",
    "d6=pd.DataFrame(d6)\n",
    "d7=pd.read_csv('/Users/kazba1/Desktop/RE valuation modelling/Additional data/7.csv')\n",
    "d7=pd.DataFrame(d7)\n",
    "d8=pd.read_csv('/Users/kazba1/Desktop/RE valuation modelling/Additional data/8.csv')\n",
    "d8=pd.DataFrame(d8)\n",
    "\n",
    "dataset=[d1,d2,d3,d4,d5,d6,d7,d8]\n",
    "df = pd.concat(dataset)\n",
    "df=df.reset_index(drop=True)\n",
    "df=df[df['links_Appartment_image1'].isnull()==False]\n",
    "df=df.reset_index(drop=True)\n",
    "df.info()"
   ]
  },
  {
   "cell_type": "markdown",
   "metadata": {},
   "source": [
    "### URL Extraction"
   ]
  },
  {
   "cell_type": "code",
   "execution_count": 13,
   "metadata": {},
   "outputs": [],
   "source": [
    "import re\n",
    "\n",
    "for i in range(len(df.index)):\n",
    "\n",
    "    text1 = df.loc[i,'links_Appartment_image1']\n",
    "    text2 = df.loc[i,'links_Appartment_image2']\n",
    "    text3 = df.loc[i,'links_Appartment_image3']\n",
    "\n",
    "    try:\n",
    "        found1 = re.search('https(.+?)position', text1).group(1)\n",
    "        df.loc[i,'links_Appartment_image1']=\"https\"+found1[:-4]\n",
    "\n",
    "    except AttributeError:\n",
    "        df.loc[i,'links_Appartment_image1'] = np.nan # apply your error handling\n",
    "    except TypeError:\n",
    "        pass\n",
    "    try:\n",
    "        found2 = re.search('https(.+?)position', text2).group(1)\n",
    "        df.loc[i,'links_Appartment_image2']=\"https\"+found2[:-4]\n",
    "\n",
    "    except AttributeError:\n",
    "        df.loc[i,'links_Appartment_image2'] = np.nan # apply your error handling\n",
    "    except TypeError:\n",
    "        pass\n",
    "    try:\n",
    "        found3 = re.search('https(.+?)position', text3).group(1)\n",
    "        df.loc[i,'links_Appartment_image3']=\"https\"+found3[:-4]\n",
    "\n",
    "    except AttributeError:\n",
    "        df.loc[i,'links_Appartment_image3'] = np.nan # apply your error handling\n",
    "    except TypeError:\n",
    "        pass\n",
    "\n",
    "df = df.rename(columns={'links_Appartment_image1': 'links_image1_url','links_Appartment_image2': 'links_image2_url','links_Appartment_image3': 'links_image3_url'})"
   ]
  },
  {
   "cell_type": "markdown",
   "metadata": {},
   "source": [
    "### Coordinate extraction"
   ]
  },
  {
   "cell_type": "code",
   "execution_count": 11,
   "metadata": {},
   "outputs": [],
   "source": [
    "# Address transformation \n",
    "for i in range(len(df.index)):\n",
    "    try:\n",
    "        df.loc[i,'short_adress']=df.loc[i,'links_Appartment_Address'].partition(\"-\")[0]\n",
    "    except AttributeError:\n",
    "        pass\n",
    "    try:\n",
    "        df.loc[i,'short_adress']=df.loc[i,'short_adress'].partition(\"SV\")[0]\n",
    "    except AttributeError:\n",
    "        pass\n",
    "    try:\n",
    "        df.loc[i,'short_adress']=df.loc[i,'short_adress'].partition(\"NV\")[0]\n",
    "    except AttributeError:\n",
    "        pass\n",
    "    try:\n",
    "        df.loc[i,'short_adress']=df.loc[i,'short_adress'].partition(\"C\")[0]\n",
    "    except AttributeError:\n",
    "        pass\n",
    "    try:\n",
    "        str = df.loc[i,'short_adress'];\n",
    "        df.loc[i,'short_adress'] = str.replace(\"Valby\", \"Copenhagen\");\n",
    "        df.loc[i,'short_adress'] = str.replace(\"Brønshøj\", \"Copenhagen\");\n",
    "        df.loc[i,'short_adress'] = str.replace(\"Nordvest\", \"Copenhagen\");\n",
    "    except AttributeError:\n",
    "        pass"
   ]
  },
  {
   "cell_type": "code",
   "execution_count": 16,
   "metadata": {},
   "outputs": [],
   "source": [
    "from geopy.geocoders import Nominatim\n",
    "geolocator = Nominatim(user_agent='robertas.kazbaras@gmail.com')\n",
    "for i in range(len(df.index)):\n",
    "    try: \n",
    "        location = geolocator.geocode(df.loc[i,'short_adress'])\n",
    "        df.loc[i,'latitude']=location.latitude\n",
    "        df.loc[i,'longitude']=location.longitude\n",
    "    except AttributeError:\n",
    "        pass"
   ]
  },
  {
   "cell_type": "code",
   "execution_count": 24,
   "metadata": {},
   "outputs": [
    {
     "name": "stdout",
     "output_type": "stream",
     "text": [
      "<class 'pandas.core.frame.DataFrame'>\n",
      "RangeIndex: 718 entries, 0 to 717\n",
      "Data columns (total 25 columns):\n",
      " #   Column                            Non-Null Count  Dtype  \n",
      "---  ------                            --------------  -----  \n",
      " 0   links_link                        718 non-null    object \n",
      " 1   links_Appartment_url              718 non-null    object \n",
      " 2   links_Appartment_Name             718 non-null    object \n",
      " 3   links_Appartment_Address          718 non-null    object \n",
      " 4   links_Appartment_Boligtype        718 non-null    object \n",
      " 5   links_Appartment_Rooms            718 non-null    float64\n",
      " 6   links_Appartment_Floor            718 non-null    object \n",
      " 7   links_Appartment_Furnished        718 non-null    object \n",
      " 8   links_Appartment_Shareable        718 non-null    object \n",
      " 9   links_Appartment_Pets_allowed     718 non-null    object \n",
      " 10  links_Appartment_Rent_period      718 non-null    object \n",
      " 11  links_Appartment_Take_over_date   718 non-null    object \n",
      " 12  links_Appartment_Rent_monthly     718 non-null    object \n",
      " 13  links_Appartment_Deposit          718 non-null    object \n",
      " 14  links_Appartment_Occupancy_price  718 non-null    object \n",
      " 15  links_Appartment_Aconto           718 non-null    object \n",
      " 16  links_Appartment_First_rent       718 non-null    object \n",
      " 17  links_Appartment_Description      718 non-null    object \n",
      " 18  links_Appartment_image1           718 non-null    object \n",
      " 19  links_Appartment_image2           655 non-null    object \n",
      " 20  links_Appartment_image3           640 non-null    object \n",
      " 21  short_adress                      718 non-null    object \n",
      " 22  latitude                          718 non-null    float64\n",
      " 23  longitude                         718 non-null    float64\n",
      " 24  distance to CBS                   718 non-null    float64\n",
      "dtypes: float64(4), object(21)\n",
      "memory usage: 140.4+ KB\n"
     ]
    }
   ],
   "source": [
    "#Taking non nul coordinates\n",
    "df=df[df['latitude'].isnull()==False]\n",
    "df=df.reset_index(drop=True)\n",
    "\n",
    "#Using the geopy for CBS coordinates\n",
    "from geopy.geocoders import Nominatim\n",
    "geolocator = Nominatim(user_agent='robertas.kazbaras@gmail.com')\n",
    "location = geolocator.geocode(\"Solbjerg Pl. 3, 2000, Copenhagen\")\n",
    "coords_1=(location.latitude,location.longitude)\n",
    "\n",
    "#Calculating the distance\n",
    "import geopy.distance\n",
    "for i in range(len(df.index)):\n",
    "    coords_2 = (df.loc[i,\"latitude\"],df.loc[i,\"longitude\"])\n",
    "    df.loc[i,\"distance to CBS\"]= geopy.distance.geodesic(coords_1, coords_2).km\n",
    "\n",
    "df.info()"
   ]
  },
  {
   "cell_type": "markdown",
   "metadata": {},
   "source": [
    "### Estimating the number of bedrooms"
   ]
  },
  {
   "cell_type": "code",
   "execution_count": 42,
   "metadata": {},
   "outputs": [
    {
     "data": {
      "text/plain": [
       "0        400,-\n",
       "1          0,-\n",
       "2      1.000,-\n",
       "3      1.100,-\n",
       "4          0,-\n",
       "        ...   \n",
       "712        0,-\n",
       "713        0,-\n",
       "714        0,-\n",
       "715        0,-\n",
       "716        0,-\n",
       "Name: links_Appartment_Aconto, Length: 717, dtype: object"
      ]
     },
     "execution_count": 42,
     "metadata": {},
     "output_type": "execute_result"
    }
   ],
   "source": [
    "#Taking care of links_Appartment_Rent_monthly\n",
    "df['links_Appartment_Rent_monthly'] = df['links_Appartment_Rent_monthly'].str[:-2]\n",
    "df['links_Appartment_Rent_monthly'] =df['links_Appartment_Rent_monthly'].str.replace(r'.', '') # removed \".\"\n",
    "\n",
    "#Changing the type into integer\n",
    "df = df[~df['links_Appartment_Rent_monthly'].isnull()] # links_Appartment_Rent_monthly contained NaN\n",
    "\n",
    "df['links_Appartment_Rent_monthly'] =df['links_Appartment_Rent_monthly'].astype(int)\n",
    "df['links_Appartment_Rent_monthly']"
   ]
  },
  {
   "cell_type": "code",
   "execution_count": null,
   "metadata": {},
   "outputs": [],
   "source": [
    "#Taking care of links_Appartment_Rent_monthly\n",
    "df['links_Appartment_Aconto']=df['links_Appartment_Aconto'].str[:-2]\n",
    "df['links_Appartment_Aconto'] =df['links_Appartment_Aconto'].str.replace(r'.', '') # removed \".\"\n",
    "\n",
    "for i in range(len(df.index)):\n",
    "    if df.loc[i,'links_Appartment_Aconto']=='':\n",
    "        df.loc[i,'links_Appartment_Aconto']=0\n",
    "\n",
    "df['links_Appartment_Aconto'] =df['links_Appartment_Aconto'].astype(int)\n",
    "df['links_Appartment_Aconto']"
   ]
  },
  {
   "cell_type": "code",
   "execution_count": 29,
   "metadata": {},
   "outputs": [],
   "source": [
    "# Deleting entries wiht more than 10 rooms\n",
    "df=df[df['links_Appartment_Rooms']<10]\n",
    "df=df.reset_index(drop=True)"
   ]
  },
  {
   "cell_type": "code",
   "execution_count": 61,
   "metadata": {},
   "outputs": [],
   "source": [
    "#The bedrooms can be estimated with around 90% accuracy by subtracting one in apartments with two to four rooms and two with five and six\n",
    "df['links_Appartment_Rooms']=df['links_Appartment_Rooms'].astype(int)\n",
    "for i in range(len(df.index)):\n",
    "    if df.loc[i,'links_Appartment_Rooms']>1 & df.loc[i,'links_Appartment_Rooms']<5:\n",
    "        df.loc[i,'Bedrooms']=df.loc[i,'links_Appartment_Rooms']-1\n",
    "    if df.loc[i,'links_Appartment_Rooms']>4:\n",
    "        df.loc[i,'Bedrooms']=df.loc[i,'links_Appartment_Rooms']-2\n",
    "    if df.loc[i,'links_Appartment_Rooms']==1:\n",
    "        df.loc[i,'Bedrooms']=df.loc[i,'links_Appartment_Rooms']"
   ]
  },
  {
   "cell_type": "markdown",
   "metadata": {},
   "source": [
    "### Including price per bedroom calculations"
   ]
  },
  {
   "cell_type": "code",
   "execution_count": 62,
   "metadata": {
    "collapsed": true
   },
   "outputs": [
    {
     "data": {
      "text/plain": [
       "0       8200\n",
       "1       4500\n",
       "2      15700\n",
       "3      18200\n",
       "4       6000\n",
       "       ...  \n",
       "712     6000\n",
       "713     5250\n",
       "714     4800\n",
       "715     4750\n",
       "716     4500\n",
       "Name: links_rent_aconto_monthly, Length: 717, dtype: int64"
      ]
     },
     "execution_count": 62,
     "metadata": {},
     "output_type": "execute_result"
    }
   ],
   "source": [
    "# taking care of links_rent_aconto_monthly\n",
    "df['links_rent_aconto_monthly']=df['links_Appartment_Rent_monthly']+df['links_Appartment_Aconto']\n",
    "a=df[df['links_rent_aconto_monthly'].isnull()].index\n",
    "for i in range(len(a)):\n",
    "    df.loc[a[i],'links_rent_aconto_monthly']=df.loc[a[i],'links_Appartment_Rent_monthly']\n",
    "df['links_rent_aconto_monthly']"
   ]
  },
  {
   "cell_type": "code",
   "execution_count": 63,
   "metadata": {},
   "outputs": [],
   "source": [
    "# links_Appartment_Rooms to integers\n",
    "df['Bedrooms']=df['Bedrooms'].astype(int)\n",
    "\n",
    "# taking care of links_rent_aconto_monthly\n",
    "df['links_rent_aconto_monthly']=df['links_Appartment_Rent_monthly']+df['links_Appartment_Aconto']\n",
    "a=df[df['links_rent_aconto_monthly'].isnull()].index\n",
    "for i in range(len(a)):\n",
    "    df.loc[a[i],'links_rent_aconto_monthly']=df.loc[a[i],'links_Appartment_Rent_monthly']\n",
    "df['links_rent_aconto_monthly']=df['links_rent_aconto_monthly'].astype(int)\n",
    "    \n",
    "# calculate Price_per_room\n",
    "# using apply function to create a new column \n",
    "df['Price_per_bedroom'] = df['links_rent_aconto_monthly']/df['Bedrooms']\n",
    "# Print the DataFrame after addition of new column \n",
    "df = df.fillna(0)\n",
    "df['Price_per_bedroom'] =df['Price_per_bedroom'].astype(int)"
   ]
  },
  {
   "cell_type": "code",
   "execution_count": 64,
   "metadata": {},
   "outputs": [],
   "source": [
    "# Deleting apartments that are more than 10k per bedroom\n",
    "df=df[df['Price_per_bedroom'] < 10000]\n",
    "df=df.reset_index(drop=True)\n",
    "\n",
    "#creating a new column with score rating/points\n",
    "def rating_price(df):\n",
    "    if (df['Price_per_bedroom'] < 3000):\n",
    "        return 5\n",
    "    elif (df['Price_per_bedroom'] < 4000):\n",
    "        return 4\n",
    "    elif (df['Price_per_bedroom'] < 5000):\n",
    "        return 3\n",
    "    elif (df['Price_per_bedroom'] < 6000):\n",
    "        return 2\n",
    "    elif (df['Price_per_bedroom'] < 7000):\n",
    "        return 1\n",
    "    elif (df['Price_per_bedroom'] < 8000):\n",
    "        return 0\n",
    "    elif (df['Price_per_bedroom'] > 8000):\n",
    "        return np.nan\n",
    "    \n",
    "df['Price_score'] = df.apply(rating_price, axis = 1)\n",
    "df = df.fillna(0)\n",
    "df['Price_score'] = df['Price_score'].astype(int)"
   ]
  },
  {
   "cell_type": "code",
   "execution_count": 65,
   "metadata": {},
   "outputs": [
    {
     "data": {
      "text/plain": [
       "array([[<matplotlib.axes._subplots.AxesSubplot object at 0x7fd60b0a52d0>]],\n",
       "      dtype=object)"
      ]
     },
     "execution_count": 65,
     "metadata": {},
     "output_type": "execute_result"
    },
    {
     "data": {
      "image/png": "[encoded data removed]",
      "text/plain": [
       "<Figure size 432x288 with 1 Axes>"
      ]
     },
     "metadata": {
      "needs_background": "light"
     },
     "output_type": "display_data"
    }
   ],
   "source": [
    "# histogram\n",
    "%matplotlib inline \n",
    "#to plot charts into Jupyter Notebook\n",
    "df.hist('Price_score', bins=12, range=[0, 6])"
   ]
  },
  {
   "cell_type": "markdown",
   "metadata": {},
   "source": [
    "### Distance score"
   ]
  },
  {
   "cell_type": "code",
   "execution_count": 67,
   "metadata": {},
   "outputs": [
    {
     "data": {
      "text/plain": [
       "array([[<matplotlib.axes._subplots.AxesSubplot object at 0x7fd60b06e810>]],\n",
       "      dtype=object)"
      ]
     },
     "execution_count": 67,
     "metadata": {},
     "output_type": "execute_result"
    },
    {
     "data": {
      "image/png": "[encoded data removed]",
      "text/plain": [
       "<Figure size 432x288 with 1 Axes>"
      ]
     },
     "metadata": {
      "needs_background": "light"
     },
     "output_type": "display_data"
    }
   ],
   "source": [
    "#cleaning up distance that is unrealisticly too far away:\n",
    "df=df[df['distance to CBS'] < 14]\n",
    "df=df.reset_index(drop=True)\n",
    "\n",
    "#creating a new column with score rating/points\n",
    "def rating_price(df):\n",
    "    if (df['distance to CBS'] < 1):\n",
    "        return 5\n",
    "    elif (df['distance to CBS'] < 2):\n",
    "        return 4\n",
    "    elif (df['distance to CBS'] < 3):\n",
    "        return 3\n",
    "    elif (df['distance to CBS'] < 5):\n",
    "        return 2\n",
    "    elif (df['distance to CBS'] < 8):\n",
    "        return 1\n",
    "    elif (df['distance to CBS'] < 14):\n",
    "        return 0\n",
    "    elif (df['distance to CBS'] > 14):\n",
    "        return np.nan\n",
    "    \n",
    "df['CBS_distance_score'] = df.apply(rating_price, axis = 1)\n",
    "df = df.fillna(0)\n",
    "df['CBS_distance_score'] = df['CBS_distance_score'].astype(int)\n",
    "\n",
    "# histogram\n",
    "%matplotlib inline \n",
    "#to plot charts into Jupyter Notebook\n",
    "df.hist('CBS_distance_score', bins=12, range=[0, 6])"
   ]
  },
  {
   "cell_type": "markdown",
   "metadata": {},
   "source": [
    "### Saving data"
   ]
  },
  {
   "cell_type": "code",
   "execution_count": 73,
   "metadata": {},
   "outputs": [],
   "source": [
    "df=df.drop(['links_link'], axis=1)\n",
    "df.to_csv('/Users/kazba1/Desktop/RE valuation modelling/Additional data/Additional_data_11_12.csv')"
   ]
  },
  {
   "cell_type": "code",
   "execution_count": 74,
   "metadata": {},
   "outputs": [
    {
     "name": "stdout",
     "output_type": "stream",
     "text": [
      "<class 'pandas.core.frame.DataFrame'>\n",
      "RangeIndex: 543 entries, 0 to 542\n",
      "Data columns (total 29 columns):\n",
      " #   Column                            Non-Null Count  Dtype  \n",
      "---  ------                            --------------  -----  \n",
      " 0   links_Appartment_url              543 non-null    object \n",
      " 1   links_Appartment_Name             543 non-null    object \n",
      " 2   links_Appartment_Address          543 non-null    object \n",
      " 3   links_Appartment_Boligtype        543 non-null    object \n",
      " 4   links_Appartment_Rooms            543 non-null    int64  \n",
      " 5   links_Appartment_Floor            543 non-null    object \n",
      " 6   links_Appartment_Furnished        543 non-null    object \n",
      " 7   links_Appartment_Shareable        543 non-null    object \n",
      " 8   links_Appartment_Pets_allowed     543 non-null    object \n",
      " 9   links_Appartment_Rent_period      543 non-null    object \n",
      " 10  links_Appartment_Take_over_date   543 non-null    object \n",
      " 11  links_Appartment_Rent_monthly     543 non-null    int64  \n",
      " 12  links_Appartment_Deposit          543 non-null    object \n",
      " 13  links_Appartment_Occupancy_price  543 non-null    object \n",
      " 14  links_Appartment_Aconto           543 non-null    int64  \n",
      " 15  links_Appartment_First_rent       543 non-null    object \n",
      " 16  links_Appartment_Description      543 non-null    object \n",
      " 17  links_image1_url                  543 non-null    object \n",
      " 18  links_image2_url                  543 non-null    object \n",
      " 19  links_image3_url                  543 non-null    object \n",
      " 20  short_adress                      543 non-null    object \n",
      " 21  latitude                          543 non-null    float64\n",
      " 22  longitude                         543 non-null    float64\n",
      " 23  distance to CBS                   543 non-null    float64\n",
      " 24  Bedrooms                          543 non-null    int64  \n",
      " 25  links_rent_aconto_monthly         543 non-null    int64  \n",
      " 26  Price_per_bedroom                 543 non-null    int64  \n",
      " 27  Price_score                       543 non-null    int64  \n",
      " 28  CBS_distance_score                543 non-null    int64  \n",
      "dtypes: float64(3), int64(8), object(18)\n",
      "memory usage: 123.1+ KB\n"
     ]
    }
   ],
   "source": [
    "df.info()"
   ]
  },
  {
   "cell_type": "code",
   "execution_count": null,
   "metadata": {},
   "outputs": [],
   "source": []
  }
 ],
 "metadata": {
  "kernelspec": {
   "display_name": "Python 3",
   "language": "python",
   "name": "python3"
  },
  "language_info": {
   "codemirror_mode": {
    "name": "ipython",
    "version": 3
   },
   "file_extension": ".py",
   "mimetype": "text/x-python",
   "name": "python",
   "nbconvert_exporter": "python",
   "pygments_lexer": "ipython3",
   "version": "3.7.6"
  }
 },
 "nbformat": 4,
 "nbformat_minor": 4
}
