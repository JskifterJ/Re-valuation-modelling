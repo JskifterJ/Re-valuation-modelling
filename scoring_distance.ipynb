{
 "cells": [
  {
   "cell_type": "markdown",
   "metadata": {},
   "source": [
    "# This is calculations of the data of distance to CBS. Where scores are also given"
   ]
  },
  {
   "cell_type": "code",
   "execution_count": 4,
   "metadata": {},
   "outputs": [
    {
     "name": "stdout",
     "output_type": "stream",
     "text": [
      "BEFORE removing stuff\n",
      "      distance to CBS\n",
      "0            4.136997\n",
      "1            7.659486\n",
      "2            8.268506\n",
      "3            8.268506\n",
      "4            4.362046\n",
      "...               ...\n",
      "2653         0.453841\n",
      "2654         6.951792\n",
      "2655         3.613957\n",
      "2656         3.511867\n",
      "2657         2.133454\n",
      "\n",
      "[2658 rows x 1 columns]\n",
      "AFTER removing stuff\n",
      "      distance to CBS\n",
      "0                   4\n",
      "1                   7\n",
      "2                   8\n",
      "3                   8\n",
      "4                   4\n",
      "...               ...\n",
      "2653                0\n",
      "2654                6\n",
      "2655                3\n",
      "2656                3\n",
      "2657                2\n",
      "\n",
      "[2658 rows x 1 columns]\n"
     ]
    }
   ],
   "source": [
    "import pandas as pd\n",
    "import numpy as np\n",
    "#Importing the file of distance to CBS.\n",
    "data = pd.read_csv (r'C:\\Users\\Sander\\Desktop\\Real_estate\\with_distance_to_CBS.csv')\n",
    "df = pd.DataFrame(data, columns= ['distance to CBS'])\n",
    "print('BEFORE removing stuff')\n",
    "print(df)\n",
    "\n",
    "# changing to data to integer.\n",
    "df = df.fillna(0)\n",
    "df['distance to CBS'] =df['distance to CBS'].astype(int) #\n",
    "print('AFTER removing stuff')\n",
    "print(df)"
   ]
  },
  {
   "cell_type": "code",
   "execution_count": 21,
   "metadata": {},
   "outputs": [
    {
     "data": {
      "text/plain": [
       "array([[<matplotlib.axes._subplots.AxesSubplot object at 0x00000153A49428B0>]],\n",
       "      dtype=object)"
      ]
     },
     "execution_count": 21,
     "metadata": {},
     "output_type": "execute_result"
    },
    {
     "data": {
      "image/png": "[encoded data removed]",
      "text/plain": [
       "<Figure size 432x288 with 1 Axes>"
      ]
     },
     "metadata": {
      "needs_background": "light"
     },
     "output_type": "display_data"
    }
   ],
   "source": [
    "# histogram\n",
    "%matplotlib inline \n",
    "#using a range of 0-10, because there are some outliers.\n",
    "df.hist('distance to CBS', bins=10, range=[0, 10])"
   ]
  },
  {
   "cell_type": "markdown",
   "metadata": {},
   "source": [
    "# Are there many outliers or big numbers in the data column of distance to cbs? checking this with max and mean..."
   ]
  },
  {
   "cell_type": "code",
   "execution_count": 16,
   "metadata": {},
   "outputs": [
    {
     "name": "stdout",
     "output_type": "stream",
     "text": [
      "distance to CBS    319.281791\n",
      "dtype: float64\n",
      "distance to CBS    7444\n",
      "dtype: int32\n"
     ]
    }
   ],
   "source": [
    "print(df.mean())\n",
    "print(df.max())\n",
    "# I feel like there could be a lot of outliers or mistakes in the data on distance? Why are some of the distances so big?"
   ]
  },
  {
   "cell_type": "code",
   "execution_count": 29,
   "metadata": {},
   "outputs": [
    {
     "data": {
      "text/plain": [
       "<matplotlib.axes._subplots.AxesSubplot at 0x153a4c5b160>"
      ]
     },
     "execution_count": 29,
     "metadata": {},
     "output_type": "execute_result"
    },
    {
     "data": {
      "image/png": "[encoded data removed]",
      "text/plain": [
       "<Figure size 432x288 with 1 Axes>"
      ]
     },
     "metadata": {
      "needs_background": "light"
     },
     "output_type": "display_data"
    }
   ],
   "source": [
    "#Here i filter out all the outliers or big distances/bugs, to get a better overview of the data.\n",
    "q_low = df['distance to CBS'].quantile(0.00)\n",
    "q_hi  = df['distance to CBS'].quantile(0.95)\n",
    "\n",
    "df_filtered = df[(df['distance to CBS'] < q_hi) & (df['distance to CBS'] > q_low)]\n",
    "df_filtered.boxplot('distance to CBS')"
   ]
  },
  {
   "cell_type": "markdown",
   "metadata": {},
   "source": [
    "# Creating the scores for the different distances to cbs"
   ]
  },
  {
   "cell_type": "code",
   "execution_count": 34,
   "metadata": {},
   "outputs": [
    {
     "name": "stdout",
     "output_type": "stream",
     "text": [
      "      distance to CBS  distance_score\n",
      "0                   3               3\n",
      "1                   1               4\n",
      "2                   1               4\n",
      "3                   1               4\n",
      "4                   3               3\n",
      "...               ...             ...\n",
      "2653                5               2\n",
      "2654                2               4\n",
      "2655                3               3\n",
      "2656                3               3\n",
      "2657                4               3\n",
      "\n",
      "[2658 rows x 2 columns]\n"
     ]
    }
   ],
   "source": [
    "#creating a new column with score rating/points from 0-5, where 5 is the best score.\n",
    "def rating_distance(df):\n",
    "    if (df['distance to CBS'] < 1):\n",
    "        return 5\n",
    "    elif (df['distance to CBS'] < 3):\n",
    "        return 4\n",
    "    elif (df['distance to CBS'] < 5):\n",
    "        return 3\n",
    "    elif (df['distance to CBS'] < 7):\n",
    "        return 2\n",
    "    elif (df['distance to CBS'] < 9):\n",
    "        return 1\n",
    "    elif (df['distance to CBS'] < 11):\n",
    "        return 0\n",
    "    elif (df['Price_per_room'] > 12):\n",
    "        return np.nan\n",
    "    \n",
    "df['distance_score'] = df.apply(rating_distance, axis = 1)\n",
    "df = df.fillna(0)\n",
    "df['distance_score'] = df['distance_score'].astype(int)\n",
    "print(df)"
   ]
  },
  {
   "cell_type": "code",
   "execution_count": null,
   "metadata": {},
   "outputs": [],
   "source": []
  }
 ],
 "metadata": {
  "kernelspec": {
   "display_name": "Python 3",
   "language": "python",
   "name": "python3"
  },
  "language_info": {
   "codemirror_mode": {
    "name": "ipython",
    "version": 3
   },
   "file_extension": ".py",
   "mimetype": "text/x-python",
   "name": "python",
   "nbconvert_exporter": "python",
   "pygments_lexer": "ipython3",
   "version": "3.8.3"
  }
 },
 "nbformat": 4,
 "nbformat_minor": 4
}
