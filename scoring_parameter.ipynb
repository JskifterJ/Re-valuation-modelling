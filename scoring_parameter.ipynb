{
 "cells": [
  {
   "cell_type": "code",
   "execution_count": 48,
   "metadata": {},
   "outputs": [
    {
     "name": "stdout",
     "output_type": "stream",
     "text": [
      "BEFORE removing stuff\n",
      "     links_Appartment_Rent_monthly  links_Appartment_Rooms\n",
      "0                         16.700,-                     4.0\n",
      "1                         15.900,-                     5.0\n",
      "2                          6.044,-                     1.0\n",
      "3                          6.359,-                     1.0\n",
      "4                         24.950,-                     4.0\n",
      "...                            ...                     ...\n",
      "2956                      14.350,-                     3.0\n",
      "2957                      11.995,-                     3.0\n",
      "2958                      14.900,-                    43.0\n",
      "2959                       5.000,-                     1.0\n",
      "2960                       6.050,-                     1.0\n",
      "\n",
      "[2961 rows x 2 columns]\n",
      "AFTER removing stuff\n",
      "      links_Appartment_Rent_monthly  links_Appartment_Rooms\n",
      "0                             16700                       4\n",
      "1                             15900                       5\n",
      "2                              6044                       1\n",
      "3                              6359                       1\n",
      "4                             24950                       4\n",
      "...                             ...                     ...\n",
      "2956                          14350                       3\n",
      "2957                          11995                       3\n",
      "2958                          14900                      43\n",
      "2959                           5000                       1\n",
      "2960                           6050                       1\n",
      "\n",
      "[2901 rows x 2 columns]\n"
     ]
    }
   ],
   "source": [
    "import pandas as pd\n",
    "import numpy as np\n",
    "#Importing the file with all the addresses.\n",
    "data = pd.read_csv (r'C:\\Users\\Sander\\Desktop\\Real_estate\\cleaned_data.csv')\n",
    "df = pd.DataFrame(data, columns= ['links_Appartment_Rent_monthly', 'links_Appartment_Rooms'])\n",
    "print('BEFORE removing stuff')\n",
    "print(df) # printing and showing columns of price monthly and number of rooms\n",
    "\n",
    "df['links_Appartment_Rent_monthly'] = df['links_Appartment_Rent_monthly'].str[:-2]\n",
    "df['links_Appartment_Rent_monthly'] =df['links_Appartment_Rent_monthly'].str.replace(r'.', '') # removed \".\"\n",
    "\n",
    "#Changing the type into integer\n",
    "df = df[~df['links_Appartment_Rent_monthly'].isnull()] # links_Appartment_Rent_monthly contained NaN\n",
    "df['links_Appartment_Rent_monthly'] =df['links_Appartment_Rent_monthly'].astype(int)\n",
    "\n",
    "# changing to data to integer or string.\n",
    "df = df.fillna(0)\n",
    "df['links_Appartment_Rooms'] =df['links_Appartment_Rooms'].astype(int) #\n",
    "print('AFTER removing stuff')\n",
    "print(df)"
   ]
  },
  {
   "cell_type": "code",
   "execution_count": 55,
   "metadata": {},
   "outputs": [
    {
     "name": "stdout",
     "output_type": "stream",
     "text": [
      "      links_Appartment_Rent_monthly  links_Appartment_Rooms  Price_per_room\n",
      "0                             16700                       4            4175\n",
      "1                             15900                       5            3180\n",
      "2                              6044                       1            6044\n",
      "3                              6359                       1            6359\n",
      "4                             24950                       4            6237\n",
      "...                             ...                     ...             ...\n",
      "2956                          14350                       3            4783\n",
      "2957                          11995                       3            3998\n",
      "2958                          14900                      43             346\n",
      "2959                           5000                       1            5000\n",
      "2960                           6050                       1            6050\n",
      "\n",
      "[2901 rows x 3 columns]\n",
      "links_Appartment_Rent_monthly    14047.887280\n",
      "links_Appartment_Rooms               2.920372\n",
      "Price_per_room                    5299.875215\n",
      "dtype: float64\n"
     ]
    }
   ],
   "source": [
    "# calculate\n",
    "# using apply function to create a new column \n",
    "df['Price_per_room'] = df['links_Appartment_Rent_monthly'] / df['links_Appartment_Rooms']\n",
    "# Print the DataFrame after addition of new column \n",
    "df = df.fillna(0)\n",
    "df['Price_per_room'] =df['Price_per_room'].astype(int)\n",
    "print(df)\n",
    "print(df.mean())"
   ]
  },
  {
   "cell_type": "code",
   "execution_count": 77,
   "metadata": {},
   "outputs": [
    {
     "data": {
      "text/plain": [
       "array([[<matplotlib.axes._subplots.AxesSubplot object at 0x000001AD4E8F2F40>]],\n",
       "      dtype=object)"
      ]
     },
     "execution_count": 77,
     "metadata": {},
     "output_type": "execute_result"
    },
    {
     "data": {
      "image/png": "[encoded data removed]",
      "text/plain": [
       "<Figure size 432x288 with 1 Axes>"
      ]
     },
     "metadata": {
      "needs_background": "light"
     },
     "output_type": "display_data"
    }
   ],
   "source": [
    "# histogram\n",
    "%matplotlib inline \n",
    "#to plot charts into Jupyter Notebook\n",
    "df.hist('Price_per_room', bins=15, range=[2500, 12000])"
   ]
  },
  {
   "cell_type": "code",
   "execution_count": 70,
   "metadata": {},
   "outputs": [
    {
     "data": {
      "text/plain": [
       "<matplotlib.axes._subplots.AxesSubplot at 0x1ad4e5abaf0>"
      ]
     },
     "execution_count": 70,
     "metadata": {},
     "output_type": "execute_result"
    },
    {
     "data": {
      "image/png": "[encoded data removed]",
      "text/plain": [
       "<Figure size 432x288 with 1 Axes>"
      ]
     },
     "metadata": {
      "needs_background": "light"
     },
     "output_type": "display_data"
    }
   ],
   "source": [
    "df.boxplot('Price_per_room')"
   ]
  },
  {
   "cell_type": "code",
   "execution_count": 80,
   "metadata": {},
   "outputs": [
    {
     "name": "stdout",
     "output_type": "stream",
     "text": [
      "      links_Appartment_Rent_monthly  links_Appartment_Rooms  Price_per_room  \\\n",
      "0                             16700                       4            4175   \n",
      "1                             15900                       5            3180   \n",
      "2                              6044                       1            6044   \n",
      "3                              6359                       1            6359   \n",
      "4                             24950                       4            6237   \n",
      "...                             ...                     ...             ...   \n",
      "2956                          14350                       3            4783   \n",
      "2957                          11995                       3            3998   \n",
      "2958                          14900                      43             346   \n",
      "2959                           5000                       1            5000   \n",
      "2960                           6050                       1            6050   \n",
      "\n",
      "      Price_score  \n",
      "0               3  \n",
      "1               4  \n",
      "2               1  \n",
      "3               0  \n",
      "4               0  \n",
      "...           ...  \n",
      "2956            2  \n",
      "2957            3  \n",
      "2958            5  \n",
      "2959            2  \n",
      "2960            1  \n",
      "\n",
      "[2901 rows x 4 columns]\n"
     ]
    }
   ],
   "source": [
    "#creating a new column with score rating/points\n",
    "def rating_price(df):\n",
    "    if (df['Price_per_room'] < 3000):\n",
    "        return 5\n",
    "    elif (df['Price_per_room'] < 3800):\n",
    "        return 4\n",
    "    elif (df['Price_per_room'] < 4600):\n",
    "        return 3\n",
    "    elif (df['Price_per_room'] < 5400):\n",
    "        return 2\n",
    "    elif (df['Price_per_room'] < 6200):\n",
    "        return 1\n",
    "    elif (df['Price_per_room'] < 7000):\n",
    "        return 0\n",
    "    elif (df['Price_per_room'] > 7000):\n",
    "        return np.nan\n",
    "    \n",
    "df['Price_score'] = df.apply(rating_price, axis = 1)\n",
    "df = df.fillna(0)\n",
    "df['Price_score'] = df['Price_score'].astype(int)\n",
    "print(df)"
   ]
  },
  {
   "cell_type": "code",
   "execution_count": null,
   "metadata": {},
   "outputs": [],
   "source": []
  }
 ],
 "metadata": {
  "kernelspec": {
   "display_name": "Python 3",
   "language": "python",
   "name": "python3"
  },
  "language_info": {
   "codemirror_mode": {
    "name": "ipython",
    "version": 3
   },
   "file_extension": ".py",
   "mimetype": "text/x-python",
   "name": "python",
   "nbconvert_exporter": "python",
   "pygments_lexer": "ipython3",
   "version": "3.8.3"
  }
 },
 "nbformat": 4,
 "nbformat_minor": 4
}
