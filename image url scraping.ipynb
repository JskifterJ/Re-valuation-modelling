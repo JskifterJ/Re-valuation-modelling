{
 "cells": [
  {
   "cell_type": "markdown",
   "metadata": {},
   "source": [
    "### Combining the image urls"
   ]
  },
  {
   "cell_type": "code",
   "execution_count": 49,
   "metadata": {},
   "outputs": [],
   "source": [
    "import pandas as pd\n",
    "import os\n",
    "import numpy as np\n",
    "d1=pd.read_csv('/Users/kazba1/Desktop/RE valuation modelling/Image urls/1.csv')\n",
    "d1=pd.DataFrame(d1)\n",
    "d2=pd.read_csv('/Users/kazba1/Desktop/RE valuation modelling/Image urls/2.csv')\n",
    "d2=pd.DataFrame(d2)\n",
    "d3=pd.read_csv('/Users/kazba1/Desktop/RE valuation modelling/Image urls/3.csv')\n",
    "d3=pd.DataFrame(d3)\n",
    "d4=pd.read_csv('/Users/kazba1/Desktop/RE valuation modelling/Image urls/4.csv')\n",
    "d4=pd.DataFrame(d4)\n",
    "d5=pd.read_csv('/Users/kazba1/Desktop/RE valuation modelling/Image urls/5.csv')\n",
    "d5=pd.DataFrame(d5)\n",
    "d6=pd.read_csv('/Users/kazba1/Desktop/RE valuation modelling/Image urls/6.csv')\n",
    "d6=pd.DataFrame(d6)\n",
    "d7=pd.read_csv('/Users/kazba1/Desktop/RE valuation modelling/Image urls/7.csv')\n",
    "d7=pd.DataFrame(d7)\n",
    "d8=pd.read_csv('/Users/kazba1/Desktop/RE valuation modelling/Image urls/8.csv')\n",
    "d8=pd.DataFrame(d8)\n",
    "d9=pd.read_csv('/Users/kazba1/Desktop/RE valuation modelling/Image urls/9.csv')\n",
    "d9=pd.DataFrame(d9)\n",
    "d10=pd.read_csv('/Users/kazba1/Desktop/RE valuation modelling/Image urls/10.csv')\n",
    "d10=pd.DataFrame(d10)\n",
    "d11=pd.read_csv('/Users/kazba1/Desktop/RE valuation modelling/Image urls/11.csv')\n",
    "d11=pd.DataFrame(d11)\n",
    "d12=pd.read_csv('/Users/kazba1/Desktop/RE valuation modelling/Image urls/12.csv')\n",
    "d12=pd.DataFrame(d12)\n",
    "d13=pd.read_csv('/Users/kazba1/Desktop/RE valuation modelling/Image urls/13.csv')\n",
    "d13=pd.DataFrame(d13)\n",
    "d14=pd.read_csv('/Users/kazba1/Desktop/RE valuation modelling/Image urls/14.csv')\n",
    "d14=pd.DataFrame(d14)\n",
    "dataset=[d1,d2,d3,d4,d5,d6,d7,d8,d9,d10,d11,d12,d13,d14]\n",
    "df = pd.concat(dataset)\n",
    "df=df.reset_index(drop=True)\n",
    "df=df[df['bolig_urls_image1'].isnull()==False]\n",
    "df=df.reset_index(drop=True)"
   ]
  },
  {
   "cell_type": "markdown",
   "metadata": {},
   "source": [
    "### Extracting the urls"
   ]
  },
  {
   "cell_type": "code",
   "execution_count": 51,
   "metadata": {},
   "outputs": [],
   "source": [
    "import re\n",
    "\n",
    "for i in range(len(df.index)):\n",
    "\n",
    "    text1 = df.loc[i,'bolig_urls_image1']\n",
    "    text2 = df.loc[i,'bolig_urls_image2']\n",
    "    text3 = df.loc[i,'bolig_urls_image3']\n",
    "\n",
    "    try:\n",
    "        found1 = re.search('https(.+?)position', text1).group(1)\n",
    "        df.loc[i,'bolig_urls_image1']=\"https\"+found1[:-4]\n",
    "\n",
    "    except AttributeError:\n",
    "        df.loc[i,'bolig_urls_image1'] = np.nan # apply your error handling\n",
    "    except TypeError:\n",
    "        pass\n",
    "    try:\n",
    "        found2 = re.search('https(.+?)position', text2).group(1)\n",
    "        df.loc[i,'bolig_urls_image2']=\"https\"+found2[:-4]\n",
    "\n",
    "    except AttributeError:\n",
    "        df.loc[i,'bolig_urls_image2'] = np.nan # apply your error handling\n",
    "    except TypeError:\n",
    "        pass\n",
    "    try:\n",
    "        found3 = re.search('https(.+?)position', text3).group(1)\n",
    "        df.loc[i,'bolig_urls_image3']=\"https\"+found3[:-4]\n",
    "\n",
    "    except AttributeError:\n",
    "        df.loc[i,'bolig_urls_image3'] = np.nan # apply your error handling\n",
    "    except TypeError:\n",
    "        pass"
   ]
  },
  {
   "cell_type": "code",
   "execution_count": 72,
   "metadata": {},
   "outputs": [],
   "source": [
    "#saving the csv\n",
    "df.to_csv('/Users/kazba1/Desktop/RE valuation modelling/Image urls/image_url.csv')"
   ]
  }
 ],
 "metadata": {
  "kernelspec": {
   "display_name": "Python 3",
   "language": "python",
   "name": "python3"
  },
  "language_info": {
   "codemirror_mode": {
    "name": "ipython",
    "version": 3
   },
   "file_extension": ".py",
   "mimetype": "text/x-python",
   "name": "python",
   "nbconvert_exporter": "python",
   "pygments_lexer": "ipython3",
   "version": "3.7.6"
  }
 },
 "nbformat": 4,
 "nbformat_minor": 4
}
